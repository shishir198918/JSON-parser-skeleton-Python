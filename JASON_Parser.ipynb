{
 "cells": [
  {
   "cell_type": "code",
   "execution_count": null,
   "metadata": {},
   "outputs": [],
   "source": [
    "def parse_null(input_string):\n",
    "    if input_string[:4] == \"null\":\n",
    "        return None, input_string[4:]\n",
    "    else:\n",
    "        return None"
   ]
  },
  {
   "cell_type": "code",
   "execution_count": 4,
   "metadata": {},
   "outputs": [
    {
     "data": {
      "text/plain": [
       "(None, ' shishir')"
      ]
     },
     "execution_count": 4,
     "metadata": {},
     "output_type": "execute_result"
    }
   ],
   "source": [
    "parse_null(\"null shishir\")"
   ]
  },
  {
   "cell_type": "code",
   "execution_count": null,
   "metadata": {},
   "outputs": [],
   "source": [
    "def parse_bool(input_string):\n",
    "    if input_string[:4] == \"true\":\n",
    "        return True, input_string[4:]\n",
    "    elif input_string[:5] == \"false\":\n",
    "        return False, input_string[:5]\n",
    "    else:\n",
    "        return None"
   ]
  },
  {
   "cell_type": "code",
   "execution_count": 5,
   "metadata": {},
   "outputs": [],
   "source": [
    "def positve(input_string):\n",
    "    positive_digit = {\"1\", \"2\", \"3\", \"4\", \"5\", \"6\", \"7\", \"8\", \"9\"}\n",
    "    index = 1\n",
    "    if input_string[0] in positive_digit:\n",
    "        while index < len(input_string):\n",
    "            if input_string[index] in positive_digit:\n",
    "                index = index + 1\n",
    "            else:\n",
    "                break\n",
    "        return (int(input_string[:index]), input_string[index:])\n",
    "    else:\n",
    "        return input_string"
   ]
  },
  {
   "cell_type": "code",
   "execution_count": 8,
   "metadata": {},
   "outputs": [
    {
     "data": {
      "text/plain": [
       "' 5351 shishir'"
      ]
     },
     "execution_count": 8,
     "metadata": {},
     "output_type": "execute_result"
    }
   ],
   "source": [
    "positve(\" 5351 shishir\")"
   ]
  },
  {
   "cell_type": "code",
   "execution_count": 9,
   "metadata": {},
   "outputs": [],
   "source": [
    "def negative(input_string):\n",
    "    positive_digit = {\"1\", \"2\", \"3\", \"4\", \"5\", \"6\", \"7\", \"8\", \"9\"}\n",
    "    index = 1\n",
    "    if input_string[0] == \"-\":\n",
    "        while index < len(input_string):\n",
    "            if input_string[index] in positive_digit:\n",
    "                index = index + 1\n",
    "            else:\n",
    "                break\n",
    "        return (int(input_string[:index]), input_string[index:])\n",
    "    else:\n",
    "        return input_string"
   ]
  },
  {
   "cell_type": "code",
   "execution_count": 10,
   "metadata": {},
   "outputs": [
    {
     "data": {
      "text/plain": [
       "(-254, ' shishir')"
      ]
     },
     "execution_count": 10,
     "metadata": {},
     "output_type": "execute_result"
    }
   ],
   "source": [
    "negative(\"-254 shishir\")"
   ]
  },
  {
   "cell_type": "code",
   "execution_count": 46,
   "metadata": {},
   "outputs": [],
   "source": [
    "def fraction(input_string):\n",
    "    digit = {\"0\", \"1\", \"2\", \"3\", \"4\", \"5\", \"6\", \"7\", \"8\", \"9\"}\n",
    "    index = 1\n",
    "    if input_string[0] in digit or input_string[0] == \"-\":\n",
    "        while index < len(input_string):\n",
    "            if input_string[index] in digit or input_string[index] == \".\":\n",
    "                index = index + 1\n",
    "            else:\n",
    "                break\n",
    "        return float(input_string[:index]), input_string[index:]\n",
    "    else:\n",
    "\n",
    "        return input_string"
   ]
  },
  {
   "cell_type": "code",
   "execution_count": 49,
   "metadata": {},
   "outputs": [
    {
     "data": {
      "text/plain": [
       "(-0.06989097, ' mukul mahajan singraur')"
      ]
     },
     "execution_count": 49,
     "metadata": {},
     "output_type": "execute_result"
    }
   ],
   "source": [
    "fraction(\"-000.06989097 mukul mahajan singraur\")"
   ]
  },
  {
   "cell_type": "code",
   "execution_count": null,
   "metadata": {},
   "outputs": [],
   "source": [
    "def number(input_string):\n",
    "    digit = {\n",
    "        \"0\",\n",
    "        \"1\",\n",
    "        \"2\",\n",
    "        \"3\",\n",
    "        \"4\",\n",
    "        \"5\",\n",
    "        \"6\",\n",
    "        \"7\",\n",
    "        \"8\",\n",
    "        \"9\",\n",
    "        \"-\",\n",
    "    }\n",
    "    pos_digit = {\n",
    "        \"0\",\n",
    "        \"1\",\n",
    "        \"2\",\n",
    "        \"3\",\n",
    "        \"4\",\n",
    "        \"5\",\n",
    "        \"6\",\n",
    "        \"7\",\n",
    "        \"8\",\n",
    "        \"9\",\n",
    "    }\n",
    "    non_rep = {\"e\", \"E\", \"+\", \".\", \"-\"}\n",
    "    if (\n",
    "        input_string[0] == \".\"\n",
    "        or input_string[0] == \" \"\n",
    "        or input_string[:2] == \"00\"\n",
    "        or (input_string[0] == \"-\" and input_string[1:3] == \"00\")\n",
    "        or input_string[:2] == \"--\"\n",
    "        or input_string[0] == \"+\"\n",
    "        or (input_string[0] == \"0\" and input_string[1] in pos_digit)\n",
    "        or (input_string[:2] == \"-0\" and input_string[2] in pos_digit)\n",
    "    ):\n",
    "        return None\n",
    "\n",
    "    index = 0\n",
    "    counter_point = True\n",
    "    counter_exponent = True\n",
    "    counter_sign = True\n",
    "    if input_string[index] in digit and input_string[-1] not in non_rep:\n",
    "        # print(input_string[index])\n",
    "        index = index + 1\n",
    "        # numbers = digit.union(non_rep)\n",
    "\n",
    "        while index < len(input_string):\n",
    "            # print(input_string[index])\n",
    "            if input_string[index] in pos_digit:\n",
    "                index = index + 1\n",
    "            elif input_string[index] == \".\" and counter_point:\n",
    "                counter_point = False\n",
    "                index = index + 1\n",
    "            elif (\n",
    "                input_string[index] == \"E\" or input_string[index] == \"e\"\n",
    "            ) and counter_exponent:\n",
    "                counter_exponent = False\n",
    "                index = index + 1\n",
    "                if (\n",
    "                    input_string[index] == \"-\" or input_string[index] == \"+\"\n",
    "                ) and counter_sign:\n",
    "                    counter_sign = False\n",
    "                    index = index + 1\n",
    "            else:\n",
    "                break\n",
    "        if input_string[:index] == \"-\":\n",
    "            return None\n",
    "        else:\n",
    "            return float(input_string[:index]), input_string[index:]\n",
    "    return None"
   ]
  },
  {
   "cell_type": "code",
   "execution_count": 102,
   "metadata": {},
   "outputs": [
    {
     "data": {
      "text/plain": [
       "(3.0, '-29-33')"
      ]
     },
     "execution_count": 102,
     "metadata": {},
     "output_type": "execute_result"
    }
   ],
   "source": [
    "number(\"3-29-33\")"
   ]
  },
  {
   "cell_type": "code",
   "execution_count": 66,
   "metadata": {},
   "outputs": [
    {
     "name": "stdout",
     "output_type": "stream",
     "text": [
      "shihsir\n",
      " pandey\n"
     ]
    }
   ],
   "source": [
    "print(\"shihsir\\n pandey\")"
   ]
  },
  {
   "cell_type": "code",
   "execution_count": 233,
   "metadata": {},
   "outputs": [
    {
     "data": {
      "text/plain": [
       "-5.678e+35"
      ]
     },
     "execution_count": 233,
     "metadata": {},
     "output_type": "execute_result"
    }
   ],
   "source": [
    "import json\n",
    "\n",
    "\n",
    "json.loads(\"-56.78e34\")\n",
    "# print(json.dumps(\"😁\"))"
   ]
  },
  {
   "cell_type": "code",
   "execution_count": null,
   "metadata": {},
   "outputs": [
    {
     "data": {
      "text/plain": [
       "[' shi pandey ', '3', '', '']"
      ]
     },
     "execution_count": 140,
     "metadata": {},
     "output_type": "execute_result"
    }
   ],
   "source": [
    "string = \" shi pandey ,3,,\"\n",
    "string.split(\",\")"
   ]
  },
  {
   "cell_type": "code",
   "execution_count": null,
   "metadata": {},
   "outputs": [],
   "source": [
    "def four_step(index, input_string):\n",
    "    if input_string[index] == \"u\":\n",
    "        pass\n",
    "\n",
    "\n",
    "def one_step(index, input_string):\n",
    "    charc = {\"b\": \"\\b\", '\"': '\"', \"f\": \"\\f\", \"n\": \"\\n\", \"r\": \"\\r\", \"t\": \"\\t\"}\n",
    "    if input_string[index] in charc.keys():\n",
    "        # print(len(input_string[index - 1] + input_string[index]))\n",
    "        return charc[input_string[index]]\n",
    "    else:\n",
    "        pass\n",
    "\n",
    "\n",
    "def string_parser(input_string):\n",
    "    output_string = \"\"\n",
    "    index = 0\n",
    "    if input_string[0] == '\"' and input_string[-1] == '\"':\n",
    "        while index < len(input_string[1:-1]):\n",
    "            if input_string[index] == \"\\\\\":\n",
    "                output_string = output_string[:index] + one_step(\n",
    "                    index + 1, input_string\n",
    "                )\n",
    "                index = index + 2\n",
    "            else:\n",
    "                index = index + 1\n",
    "                output_string = output_string + input_string[index]\n",
    "\n",
    "        return output_string\n",
    "    else:\n",
    "        return None"
   ]
  },
  {
   "cell_type": "code",
   "execution_count": null,
   "metadata": {},
   "outputs": [
    {
     "data": {
      "text/plain": [
       "'[2,3,4,\"shishir\",5]'"
      ]
     },
     "execution_count": 144,
     "metadata": {},
     "output_type": "execute_result"
    }
   ],
   "source": [
    "string_parser()"
   ]
  },
  {
   "cell_type": "code",
   "execution_count": null,
   "metadata": {},
   "outputs": [],
   "source": [
    "def value_type(input_string):\n",
    "    \n",
    "def parse_array(input_string):\n",
    "    if input_string[0]==\"[\":\n",
    "        arr=[]\n",
    "        first_index=1\n",
    "        for index, value in enumerate(input_string[1:]):\n",
    "            if value==\",\":\n",
    "                arr.append(value_type(strip(input_string[first_index:index])))\n",
    "                first_index=index+1\n",
    "            elif value==\"]\":\n",
    "                break\n",
    "            \n",
    "            \n",
    "    "
   ]
  },
  {
   "cell_type": "code",
   "execution_count": null,
   "metadata": {},
   "outputs": [
    {
     "name": "stdout",
     "output_type": "stream",
     "text": [
      "0 S\n",
      "1 h\n",
      "2 i\n",
      "3 s\n",
      "4 h\n",
      "5 i\n",
      "6 r\n"
     ]
    }
   ],
   "source": [
    "s1 = \"Shishir\"\n",
    "for index, value in enumerate(s1):\n",
    "    print(index, value)"
   ]
  },
  {
   "cell_type": "code",
   "execution_count": null,
   "metadata": {},
   "outputs": [],
   "source": [
    "def parse_number(input_string):\n",
    "    digit = {\n",
    "        \"0\",\n",
    "        \"1\",\n",
    "        \"2\",\n",
    "        \"3\",\n",
    "        \"4\",\n",
    "        \"5\",\n",
    "        \"6\",\n",
    "        \"7\",\n",
    "        \"8\",\n",
    "        \"9\",\n",
    "    }\n",
    "    pos_digit = {\n",
    "        \"1\",\n",
    "        \"2\",\n",
    "        \"3\",\n",
    "        \"4\",\n",
    "        \"5\",\n",
    "        \"6\",\n",
    "        \"7\",\n",
    "        \"8\",\n",
    "        \"9\",\n",
    "    }\n",
    "    index = 1\n",
    "    counter_decimal = True\n",
    "    counter_exponent = True\n",
    "    counter_sign = True\n",
    "    if input_string[0] in pos_digit:\n",
    "        while index < len(input_string):\n",
    "            # print(index, input_string[index])\n",
    "            if input_string[index] in digit:\n",
    "                index = index + 1\n",
    "            elif input_string[index] == \".\" and counter_decimal:\n",
    "                # print(index)\n",
    "                counter_decimal = False\n",
    "                index = index + 1\n",
    "                if input_string[index] in digit:\n",
    "                    index = index + 1\n",
    "                    # looping for digit\n",
    "                    while index < len(input_string):\n",
    "                        if input_string[index] in digit:\n",
    "                            index = index + 1\n",
    "                        else:\n",
    "                            break\n",
    "                elif (\n",
    "                    input_string[index] == \"E\" or input_string[index] == \"e\"\n",
    "                ) and counter_exponent:\n",
    "                    index = index + 1\n",
    "                    # digit looping after exponent encounter\n",
    "                    if input_string[index] in digit:\n",
    "                        index = index + 1\n",
    "                        while index < len(input_string):\n",
    "                            if input_string[index] in digit:\n",
    "                                index = index + 1\n",
    "                            else:\n",
    "                                return None\n",
    "                    elif (\n",
    "                        input_string[index] == \"+\" or input_string[index] == \"-\"\n",
    "                    ) and counter_sign:\n",
    "                        counter_sign = False\n",
    "                        index = index + 1\n",
    "                        # intergers loop after sign\n",
    "                        while index < len(input_string):\n",
    "                            if input_string[index] in digit:\n",
    "                                index = index + 1\n",
    "                            else:\n",
    "                                return None\n",
    "\n",
    "            # Case for Exponent\n",
    "            elif (\n",
    "                input_string[index] == \"E\" or input_string[index] == \"e\"\n",
    "            ) and counter_exponent:\n",
    "                counter_exponent = False\n",
    "                index = index + 1\n",
    "                if (\n",
    "                    input_string[index] == \"+\" or input_string[index] == \"-\"\n",
    "                ) and counter_sign:\n",
    "                    counter_sign = False\n",
    "                    index = index + 1\n",
    "                    # intergers loop after sign\n",
    "                    while index < len(input_string):\n",
    "                        if input_string[index] in digit:\n",
    "                            index = index + 1\n",
    "                        else:\n",
    "                            return None\n",
    "\n",
    "                elif input_string[index] in digit:\n",
    "                    index = index + 1\n",
    "                    # looping after after getting a digit\n",
    "                    while index < len(input_string):\n",
    "                        if input_string[index] in digit:\n",
    "                            index = index + 1\n",
    "                        else:\n",
    "                            return None\n",
    "        return float(input_string[:index]), input_string[index:]\n",
    "    # for negative start\n",
    "\n",
    "    elif input_string[0] == \"-\":\n",
    "        if input_string[index] in pos_digit:\n",
    "            while index < len(input_string):\n",
    "                # print(index, input_string[index])\n",
    "                if input_string[index] in digit:\n",
    "                    index = index + 1\n",
    "                elif input_string[index] == \".\" and counter_decimal:\n",
    "                    # print(index)\n",
    "                    counter_decimal = False\n",
    "                    index = index + 1\n",
    "                    if input_string[index] in digit:\n",
    "                        index = index + 1\n",
    "                        # looping for digit\n",
    "                        while index < len(input_string):\n",
    "                            if input_string[index] in digit:\n",
    "                                index = index + 1\n",
    "                            else:\n",
    "                                break\n",
    "                    elif (\n",
    "                        input_string[index] == \"E\" or input_string[index] == \"e\"\n",
    "                    ) and counter_exponent:\n",
    "                        index = index + 1\n",
    "                        # digit looping after exponent encounter\n",
    "                        if input_string[index] in digit:\n",
    "                            index = index + 1\n",
    "                            while index < len(input_string):\n",
    "                                if input_string[index] in digit:\n",
    "                                    index = index + 1\n",
    "                                else:\n",
    "                                    return None\n",
    "                        elif (\n",
    "                            input_string[index] == \"+\" or input_string[index] == \"-\"\n",
    "                        ) and counter_sign:\n",
    "                            counter_sign = False\n",
    "                            index = index + 1\n",
    "                            # intergers loop after sign\n",
    "                            while index < len(input_string):\n",
    "                                if input_string[index] in digit:\n",
    "                                    index = index + 1\n",
    "                                else:\n",
    "                                    return None\n",
    "\n",
    "                # Case for Exponent\n",
    "                elif (\n",
    "                    input_string[index] == \"E\" or input_string[index] == \"e\"\n",
    "                ) and counter_exponent:\n",
    "                    counter_exponent = False\n",
    "                    index = index + 1\n",
    "                    if (\n",
    "                        input_string[index] == \"+\" or input_string[index] == \"-\"\n",
    "                    ) and counter_sign:\n",
    "                        counter_sign = False\n",
    "                        index = index + 1\n",
    "                        # intergers loop after sign\n",
    "                        while index < len(input_string):\n",
    "                            if input_string[index] in digit:\n",
    "                                index = index + 1\n",
    "                            else:\n",
    "                                return None\n",
    "\n",
    "                    elif input_string[index] in digit:\n",
    "                        index = index + 1\n",
    "                        # looping after after getting a digit\n",
    "                        while index < len(input_string):\n",
    "                            if input_string[index] in digit:\n",
    "                                index = index + 1\n",
    "                            else:\n",
    "                                return None\n",
    "            return float(input_string[:index]), input_string[index:]"
   ]
  },
  {
   "cell_type": "code",
   "execution_count": 1,
   "metadata": {},
   "outputs": [
    {
     "ename": "NameError",
     "evalue": "name 'parse_number' is not defined",
     "output_type": "error",
     "traceback": [
      "\u001b[1;31m---------------------------------------------------------------------------\u001b[0m",
      "\u001b[1;31mNameError\u001b[0m                                 Traceback (most recent call last)",
      "Cell \u001b[1;32mIn[1], line 1\u001b[0m\n\u001b[1;32m----> 1\u001b[0m \u001b[43mparse_number\u001b[49m(\u001b[38;5;124m\"\u001b[39m\u001b[38;5;124m-3.14+\u001b[39m\u001b[38;5;124m\"\u001b[39m)\n",
      "\u001b[1;31mNameError\u001b[0m: name 'parse_number' is not defined"
     ]
    }
   ],
   "source": [
    "parse_number(\"-3.14+\")"
   ]
  }
 ],
 "metadata": {
  "kernelspec": {
   "display_name": "Python 3",
   "language": "python",
   "name": "python3"
  },
  "language_info": {
   "codemirror_mode": {
    "name": "ipython",
    "version": 3
   },
   "file_extension": ".py",
   "mimetype": "text/x-python",
   "name": "python",
   "nbconvert_exporter": "python",
   "pygments_lexer": "ipython3",
   "version": "3.12.3"
  }
 },
 "nbformat": 4,
 "nbformat_minor": 2
}
