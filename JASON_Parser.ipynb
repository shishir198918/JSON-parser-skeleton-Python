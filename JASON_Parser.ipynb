{
 "cells": [
  {
   "cell_type": "code",
   "execution_count": 3,
   "metadata": {},
   "outputs": [],
   "source": [
    "def parse_null(input_string):\n",
    "    if input_string[:4] == \"null\":\n",
    "        return None, input_string[4:]"
   ]
  },
  {
   "cell_type": "code",
   "execution_count": 4,
   "metadata": {},
   "outputs": [
    {
     "data": {
      "text/plain": [
       "(None, ' shishir')"
      ]
     },
     "execution_count": 4,
     "metadata": {},
     "output_type": "execute_result"
    }
   ],
   "source": [
    "parse_null(\"null shishir\")"
   ]
  },
  {
   "cell_type": "code",
   "execution_count": 6,
   "metadata": {},
   "outputs": [],
   "source": [
    "def parse_bool(input_string):\n",
    "    if input_string[:4] == \"true\":\n",
    "        return True, input_string[4:]\n",
    "    elif input_string[:5] == \"false\":\n",
    "        return False, input_string[:5]"
   ]
  },
  {
   "cell_type": "code",
   "execution_count": 5,
   "metadata": {},
   "outputs": [],
   "source": [
    "def positve(input_string):\n",
    "    positive_digit = {\"1\", \"2\", \"3\", \"4\", \"5\", \"6\", \"7\", \"8\", \"9\"}\n",
    "    index = 1\n",
    "    if input_string[0] in positive_digit:\n",
    "        while index < len(input_string):\n",
    "            if input_string[index] in positive_digit:\n",
    "                index = index + 1\n",
    "            else:\n",
    "                break\n",
    "        return (int(input_string[:index]), input_string[index:])\n",
    "    else:\n",
    "        return input_string"
   ]
  },
  {
   "cell_type": "code",
   "execution_count": 8,
   "metadata": {},
   "outputs": [
    {
     "data": {
      "text/plain": [
       "' 5351 shishir'"
      ]
     },
     "execution_count": 8,
     "metadata": {},
     "output_type": "execute_result"
    }
   ],
   "source": [
    "positve(\" 5351 shishir\")"
   ]
  },
  {
   "cell_type": "code",
   "execution_count": 9,
   "metadata": {},
   "outputs": [],
   "source": [
    "def negative(input_string):\n",
    "    positive_digit = {\"1\", \"2\", \"3\", \"4\", \"5\", \"6\", \"7\", \"8\", \"9\"}\n",
    "    index = 1\n",
    "    if input_string[0] == \"-\":\n",
    "        while index < len(input_string):\n",
    "            if input_string[index] in positive_digit:\n",
    "                index = index + 1\n",
    "            else:\n",
    "                break\n",
    "        return (int(input_string[:index]), input_string[index:])\n",
    "    else:\n",
    "        return input_string"
   ]
  },
  {
   "cell_type": "code",
   "execution_count": 10,
   "metadata": {},
   "outputs": [
    {
     "data": {
      "text/plain": [
       "(-254, ' shishir')"
      ]
     },
     "execution_count": 10,
     "metadata": {},
     "output_type": "execute_result"
    }
   ],
   "source": [
    "negative(\"-254 shishir\")"
   ]
  },
  {
   "cell_type": "code",
   "execution_count": 46,
   "metadata": {},
   "outputs": [],
   "source": [
    "def fraction(input_string):\n",
    "    digit = {\"0\", \"1\", \"2\", \"3\", \"4\", \"5\", \"6\", \"7\", \"8\", \"9\"}\n",
    "    index = 1\n",
    "    if input_string[0] in digit or input_string[0] == \"-\":\n",
    "        while index < len(input_string):\n",
    "            if input_string[index] in digit or input_string[index] == \".\":\n",
    "                index = index + 1\n",
    "            else:\n",
    "                break\n",
    "        return float(input_string[:index]), input_string[index:]\n",
    "    else:\n",
    "\n",
    "        return input_string"
   ]
  },
  {
   "cell_type": "code",
   "execution_count": 49,
   "metadata": {},
   "outputs": [
    {
     "data": {
      "text/plain": [
       "(-0.06989097, ' mukul mahajan singraur')"
      ]
     },
     "execution_count": 49,
     "metadata": {},
     "output_type": "execute_result"
    }
   ],
   "source": [
    "fraction(\"-000.06989097 mukul mahajan singraur\")"
   ]
  },
  {
   "cell_type": "code",
   "execution_count": null,
   "metadata": {},
   "outputs": [],
   "source": []
  }
 ],
 "metadata": {
  "kernelspec": {
   "display_name": "Python 3",
   "language": "python",
   "name": "python3"
  },
  "language_info": {
   "codemirror_mode": {
    "name": "ipython",
    "version": 3
   },
   "file_extension": ".py",
   "mimetype": "text/x-python",
   "name": "python",
   "nbconvert_exporter": "python",
   "pygments_lexer": "ipython3",
   "version": "3.12.3"
  }
 },
 "nbformat": 4,
 "nbformat_minor": 2
}
