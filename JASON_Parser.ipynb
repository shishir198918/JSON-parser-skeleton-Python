{
 "cells": [
  {
   "cell_type": "code",
   "execution_count": 3,
   "metadata": {},
   "outputs": [],
   "source": [
    "def parse_null(input_string):\n",
    "    if input_string[:4] == \"null\":\n",
    "        return None, input_string[4:]"
   ]
  },
  {
   "cell_type": "code",
   "execution_count": 4,
   "metadata": {},
   "outputs": [
    {
     "data": {
      "text/plain": [
       "(None, ' shishir')"
      ]
     },
     "execution_count": 4,
     "metadata": {},
     "output_type": "execute_result"
    }
   ],
   "source": [
    "parse_null(\"null shishir\")"
   ]
  },
  {
   "cell_type": "code",
   "execution_count": 6,
   "metadata": {},
   "outputs": [],
   "source": [
    "def parse_bool(input_string):\n",
    "    if input_string[:4] == \"true\":\n",
    "        return True, input_string[4:]\n",
    "    elif input_string[:5] == \"false\":\n",
    "        return False, input_string[:5]"
   ]
  },
  {
   "cell_type": "code",
   "execution_count": 5,
   "metadata": {},
   "outputs": [],
   "source": [
    "def positve(input_string):\n",
    "    positive_digit = {\"1\", \"2\", \"3\", \"4\", \"5\", \"6\", \"7\", \"8\", \"9\"}\n",
    "    index = 1\n",
    "    if input_string[0] in positive_digit:\n",
    "        while index < len(input_string):\n",
    "            if input_string[index] in positive_digit:\n",
    "                index = index + 1\n",
    "            else:\n",
    "                break\n",
    "        return (int(input_string[:index]), input_string[index:])\n",
    "    else:\n",
    "        return input_string"
   ]
  },
  {
   "cell_type": "code",
   "execution_count": 8,
   "metadata": {},
   "outputs": [
    {
     "data": {
      "text/plain": [
       "' 5351 shishir'"
      ]
     },
     "execution_count": 8,
     "metadata": {},
     "output_type": "execute_result"
    }
   ],
   "source": [
    "positve(\" 5351 shishir\")"
   ]
  },
  {
   "cell_type": "code",
   "execution_count": 9,
   "metadata": {},
   "outputs": [],
   "source": [
    "def negative(input_string):\n",
    "    positive_digit = {\"1\", \"2\", \"3\", \"4\", \"5\", \"6\", \"7\", \"8\", \"9\"}\n",
    "    index = 1\n",
    "    if input_string[0] == \"-\":\n",
    "        while index < len(input_string):\n",
    "            if input_string[index] in positive_digit:\n",
    "                index = index + 1\n",
    "            else:\n",
    "                break\n",
    "        return (int(input_string[:index]), input_string[index:])\n",
    "    else:\n",
    "        return input_string"
   ]
  },
  {
   "cell_type": "code",
   "execution_count": 10,
   "metadata": {},
   "outputs": [
    {
     "data": {
      "text/plain": [
       "(-254, ' shishir')"
      ]
     },
     "execution_count": 10,
     "metadata": {},
     "output_type": "execute_result"
    }
   ],
   "source": [
    "negative(\"-254 shishir\")"
   ]
  },
  {
   "cell_type": "code",
   "execution_count": 46,
   "metadata": {},
   "outputs": [],
   "source": [
    "def fraction(input_string):\n",
    "    digit = {\"0\", \"1\", \"2\", \"3\", \"4\", \"5\", \"6\", \"7\", \"8\", \"9\"}\n",
    "    index = 1\n",
    "    if input_string[0] in digit or input_string[0] == \"-\":\n",
    "        while index < len(input_string):\n",
    "            if input_string[index] in digit or input_string[index] == \".\":\n",
    "                index = index + 1\n",
    "            else:\n",
    "                break\n",
    "        return float(input_string[:index]), input_string[index:]\n",
    "    else:\n",
    "\n",
    "        return input_string"
   ]
  },
  {
   "cell_type": "code",
   "execution_count": 49,
   "metadata": {},
   "outputs": [
    {
     "data": {
      "text/plain": [
       "(-0.06989097, ' mukul mahajan singraur')"
      ]
     },
     "execution_count": 49,
     "metadata": {},
     "output_type": "execute_result"
    }
   ],
   "source": [
    "fraction(\"-000.06989097 mukul mahajan singraur\")"
   ]
  },
  {
   "cell_type": "code",
   "execution_count": null,
   "metadata": {},
   "outputs": [],
   "source": [
    "def number(input_string):\n",
    "    digit = {\n",
    "        \"0\",\n",
    "        \"1\",\n",
    "        \"2\",\n",
    "        \"3\",\n",
    "        \"4\",\n",
    "        \"5\",\n",
    "        \"6\",\n",
    "        \"7\",\n",
    "        \"8\",\n",
    "        \"9\",\n",
    "        \"-\",\n",
    "    }\n",
    "    pos_digit = {\n",
    "        \"0\",\n",
    "        \"1\",\n",
    "        \"2\",\n",
    "        \"3\",\n",
    "        \"4\",\n",
    "        \"5\",\n",
    "        \"6\",\n",
    "        \"7\",\n",
    "        \"8\",\n",
    "        \"9\",\n",
    "    }\n",
    "    non_rep = {\"e\", \"E\", \"+\", \".\", \"-\"}\n",
    "    if (\n",
    "        input_string[0] == \".\"\n",
    "        or input_string[0] == \" \"\n",
    "        or input_string[:2] == \"00\"\n",
    "        or (input_string[0] == \"-\" and input_string[1:3] == \"00\")\n",
    "        or input_string[:2] == \"--\"\n",
    "        or input_string[0] == \"+\"\n",
    "        or (input_string[0] == \"0\" and input_string[1] in pos_digit)\n",
    "        or (input_string[:2] == \"-0\" and input_string[2] in pos_digit)\n",
    "    ):\n",
    "        return None\n",
    "\n",
    "    index = 0\n",
    "    counter_point = True\n",
    "    counter_exponent = True\n",
    "    counter_sign = True\n",
    "    if input_string[index] in digit and input_string[-1] not in non_rep:\n",
    "        # print(input_string[index])\n",
    "        index = index + 1\n",
    "        # numbers = digit.union(non_rep)\n",
    "\n",
    "        while index < len(input_string):\n",
    "            # print(input_string[index])\n",
    "            if input_string[index] in pos_digit:\n",
    "                index = index + 1\n",
    "            elif input_string[index] == \".\" and counter_point:\n",
    "                counter_point = False\n",
    "                index = index + 1\n",
    "            elif (\n",
    "                input_string[index] == \"E\" or input_string[index] == \"e\"\n",
    "            ) and counter_exponent:\n",
    "                counter_exponent = False\n",
    "                index = index + 1\n",
    "                if (\n",
    "                    input_string[index] == \"-\" or input_string[index] == \"+\"\n",
    "                ) and counter_sign:\n",
    "                    counter_sign = False\n",
    "                    index = index + 1\n",
    "            else:\n",
    "                break\n",
    "        if input_string[:index] == \"-\":\n",
    "            return None\n",
    "        else:\n",
    "            return float(input_string[:index]), input_string[index:]\n",
    "    return None"
   ]
  },
  {
   "cell_type": "code",
   "execution_count": 102,
   "metadata": {},
   "outputs": [
    {
     "data": {
      "text/plain": [
       "(3.0, '-29-33')"
      ]
     },
     "execution_count": 102,
     "metadata": {},
     "output_type": "execute_result"
    }
   ],
   "source": [
    "number(\"3-29-33\")"
   ]
  },
  {
   "cell_type": "code",
   "execution_count": 66,
   "metadata": {},
   "outputs": [
    {
     "name": "stdout",
     "output_type": "stream",
     "text": [
      "shihsir\n",
      " pandey\n"
     ]
    }
   ],
   "source": [
    "print(\"shihsir\\n pandey\")"
   ]
  },
  {
   "cell_type": "code",
   "execution_count": 100,
   "metadata": {},
   "outputs": [
    {
     "ename": "JSONDecodeError",
     "evalue": "Extra data: line 1 column 3 (char 2)",
     "output_type": "error",
     "traceback": [
      "\u001b[1;31m---------------------------------------------------------------------------\u001b[0m",
      "\u001b[1;31mJSONDecodeError\u001b[0m                           Traceback (most recent call last)",
      "Cell \u001b[1;32mIn[100], line 4\u001b[0m\n\u001b[0;32m      1\u001b[0m \u001b[38;5;28;01mimport\u001b[39;00m \u001b[38;5;21;01mjson\u001b[39;00m\n\u001b[1;32m----> 4\u001b[0m \u001b[43mjson\u001b[49m\u001b[38;5;241;43m.\u001b[39;49m\u001b[43mloads\u001b[49m\u001b[43m(\u001b[49m\u001b[38;5;124;43m\"\u001b[39;49m\u001b[38;5;124;43m32-88+1\u001b[39;49m\u001b[38;5;124;43m\"\u001b[39;49m\u001b[43m)\u001b[49m\n\u001b[0;32m      5\u001b[0m \u001b[38;5;66;03m# print(json.dumps(\"😁\"))\u001b[39;00m\n",
      "File \u001b[1;32mc:\\Users\\Shiment\\AppData\\Local\\Programs\\Python\\Python312\\Lib\\json\\__init__.py:346\u001b[0m, in \u001b[0;36mloads\u001b[1;34m(s, cls, object_hook, parse_float, parse_int, parse_constant, object_pairs_hook, **kw)\u001b[0m\n\u001b[0;32m    341\u001b[0m     s \u001b[38;5;241m=\u001b[39m s\u001b[38;5;241m.\u001b[39mdecode(detect_encoding(s), \u001b[38;5;124m'\u001b[39m\u001b[38;5;124msurrogatepass\u001b[39m\u001b[38;5;124m'\u001b[39m)\n\u001b[0;32m    343\u001b[0m \u001b[38;5;28;01mif\u001b[39;00m (\u001b[38;5;28mcls\u001b[39m \u001b[38;5;129;01mis\u001b[39;00m \u001b[38;5;28;01mNone\u001b[39;00m \u001b[38;5;129;01mand\u001b[39;00m object_hook \u001b[38;5;129;01mis\u001b[39;00m \u001b[38;5;28;01mNone\u001b[39;00m \u001b[38;5;129;01mand\u001b[39;00m\n\u001b[0;32m    344\u001b[0m         parse_int \u001b[38;5;129;01mis\u001b[39;00m \u001b[38;5;28;01mNone\u001b[39;00m \u001b[38;5;129;01mand\u001b[39;00m parse_float \u001b[38;5;129;01mis\u001b[39;00m \u001b[38;5;28;01mNone\u001b[39;00m \u001b[38;5;129;01mand\u001b[39;00m\n\u001b[0;32m    345\u001b[0m         parse_constant \u001b[38;5;129;01mis\u001b[39;00m \u001b[38;5;28;01mNone\u001b[39;00m \u001b[38;5;129;01mand\u001b[39;00m object_pairs_hook \u001b[38;5;129;01mis\u001b[39;00m \u001b[38;5;28;01mNone\u001b[39;00m \u001b[38;5;129;01mand\u001b[39;00m \u001b[38;5;129;01mnot\u001b[39;00m kw):\n\u001b[1;32m--> 346\u001b[0m     \u001b[38;5;28;01mreturn\u001b[39;00m \u001b[43m_default_decoder\u001b[49m\u001b[38;5;241;43m.\u001b[39;49m\u001b[43mdecode\u001b[49m\u001b[43m(\u001b[49m\u001b[43ms\u001b[49m\u001b[43m)\u001b[49m\n\u001b[0;32m    347\u001b[0m \u001b[38;5;28;01mif\u001b[39;00m \u001b[38;5;28mcls\u001b[39m \u001b[38;5;129;01mis\u001b[39;00m \u001b[38;5;28;01mNone\u001b[39;00m:\n\u001b[0;32m    348\u001b[0m     \u001b[38;5;28mcls\u001b[39m \u001b[38;5;241m=\u001b[39m JSONDecoder\n",
      "File \u001b[1;32mc:\\Users\\Shiment\\AppData\\Local\\Programs\\Python\\Python312\\Lib\\json\\decoder.py:340\u001b[0m, in \u001b[0;36mJSONDecoder.decode\u001b[1;34m(self, s, _w)\u001b[0m\n\u001b[0;32m    338\u001b[0m end \u001b[38;5;241m=\u001b[39m _w(s, end)\u001b[38;5;241m.\u001b[39mend()\n\u001b[0;32m    339\u001b[0m \u001b[38;5;28;01mif\u001b[39;00m end \u001b[38;5;241m!=\u001b[39m \u001b[38;5;28mlen\u001b[39m(s):\n\u001b[1;32m--> 340\u001b[0m     \u001b[38;5;28;01mraise\u001b[39;00m JSONDecodeError(\u001b[38;5;124m\"\u001b[39m\u001b[38;5;124mExtra data\u001b[39m\u001b[38;5;124m\"\u001b[39m, s, end)\n\u001b[0;32m    341\u001b[0m \u001b[38;5;28;01mreturn\u001b[39;00m obj\n",
      "\u001b[1;31mJSONDecodeError\u001b[0m: Extra data: line 1 column 3 (char 2)"
     ]
    }
   ],
   "source": [
    "import json\n",
    "\n",
    "\n",
    "json.loads(\"32-88+1\")\n",
    "# print(json.dumps(\"😁\"))"
   ]
  },
  {
   "cell_type": "code",
   "execution_count": null,
   "metadata": {},
   "outputs": [],
   "source": []
  },
  {
   "cell_type": "code",
   "execution_count": null,
   "metadata": {},
   "outputs": [],
   "source": [
    "def four_step(index, input_string):\n",
    "    if input_string[index] == \"u\":\n",
    "        pass\n",
    "\n",
    "\n",
    "def one_step(index, input_string):\n",
    "    charc = {\"b\": \"\\b\", '\"': '\"', \"f\": \"\\f\", \"n\": \"\\n\", \"r\": \"\\r\", \"t\": \"\\t\"}\n",
    "    if input_string[index] in charc.keys():\n",
    "        # print(len(input_string[index - 1] + input_string[index]))\n",
    "        return charc[input_string[index]]\n",
    "    else:\n",
    "        pass\n",
    "\n",
    "\n",
    "def string_parser(input_string):\n",
    "    output_string = \"\"\n",
    "    index = 1\n",
    "    if input_string[0] == '\"' and input_string[-1] == '\"':\n",
    "        while index < len(input_string[1:-1]):\n",
    "            if input_string[index] == \"\\\\\":\n",
    "                output_string = output_string[:index] + one_step(\n",
    "                    index + 1, input_string\n",
    "                )\n",
    "                index = index + 2\n",
    "            else:\n",
    "                output_string = output_string + input_string[index]\n",
    "                index = index + 1\n",
    "        return output_string\n",
    "    else:\n",
    "        return None"
   ]
  },
  {
   "cell_type": "code",
   "execution_count": 217,
   "metadata": {},
   "outputs": [
    {
     "data": {
      "text/plain": [
       "'😉'"
      ]
     },
     "execution_count": 217,
     "metadata": {},
     "output_type": "execute_result"
    }
   ],
   "source": [
    "chr(0x1F609)"
   ]
  },
  {
   "cell_type": "code",
   "execution_count": null,
   "metadata": {},
   "outputs": [
    {
     "data": {
      "text/plain": [
       "'ʰ'"
      ]
     },
     "execution_count": 223,
     "metadata": {},
     "output_type": "execute_result"
    }
   ],
   "source": [
    "chr(0xF0 + 0x9F + 0x98 + 0x89)"
   ]
  },
  {
   "cell_type": "code",
   "execution_count": 189,
   "metadata": {},
   "outputs": [
    {
     "name": "stdout",
     "output_type": "stream",
     "text": [
      "Shishir\tPandey\n",
      "Varansi\n",
      "recently\"\n"
     ]
    }
   ],
   "source": [
    "print(string_parser('\"Shishir\\\\tPandey\\\\nVaransi\\\\nrecently\\\\\"\"'))"
   ]
  },
  {
   "cell_type": "code",
   "execution_count": 178,
   "metadata": {},
   "outputs": [
    {
     "data": {
      "text/plain": [
       "'/'"
      ]
     },
     "execution_count": 178,
     "metadata": {},
     "output_type": "execute_result"
    }
   ],
   "source": [
    "s1 = '\"shis/rpand\"'\n",
    "s1[5]"
   ]
  },
  {
   "cell_type": "code",
   "execution_count": 179,
   "metadata": {},
   "outputs": [
    {
     "name": "stdout",
     "output_type": "stream",
     "text": [
      "Pandeyr\n"
     ]
    }
   ],
   "source": [
    "print(\"shishir\" + one_step(6, s1) + \"Pandey\")"
   ]
  },
  {
   "cell_type": "code",
   "execution_count": 103,
   "metadata": {},
   "outputs": [
    {
     "data": {
      "text/plain": [
       "'Shishir\\\\t Pandey\\\\u1234 p'"
      ]
     },
     "execution_count": 103,
     "metadata": {},
     "output_type": "execute_result"
    }
   ],
   "source": [
    "string_parser('\"Shishir\\\\t Pandey\\\\u1234 p\"')"
   ]
  },
  {
   "cell_type": "code",
   "execution_count": null,
   "metadata": {},
   "outputs": [
    {
     "name": "stdout",
     "output_type": "stream",
     "text": [
      "shishir\n"
     ]
    }
   ],
   "source": [
    "s1 = '\"shishir\"'\n",
    "print(s1[1:-1])"
   ]
  },
  {
   "cell_type": "code",
   "execution_count": null,
   "metadata": {},
   "outputs": [
    {
     "name": "stdout",
     "output_type": "stream",
     "text": [
      "\\b\n",
      "\b\n"
     ]
    }
   ],
   "source": [
    "print(\"\\\\\" + \"b\")\n",
    "print(\"\\b\")"
   ]
  }
 ],
 "metadata": {
  "kernelspec": {
   "display_name": "Python 3",
   "language": "python",
   "name": "python3"
  },
  "language_info": {
   "codemirror_mode": {
    "name": "ipython",
    "version": 3
   },
   "file_extension": ".py",
   "mimetype": "text/x-python",
   "name": "python",
   "nbconvert_exporter": "python",
   "pygments_lexer": "ipython3",
   "version": "3.12.3"
  }
 },
 "nbformat": 4,
 "nbformat_minor": 2
}
