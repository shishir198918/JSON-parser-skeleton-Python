{
 "cells": [
  {
   "cell_type": "code",
   "execution_count": 72,
   "metadata": {},
   "outputs": [
    {
     "name": "stdout",
     "output_type": "stream",
     "text": [
      " shishir\n"
     ]
    }
   ],
   "source": [
    "import json\n",
    "\n",
    "print(json.loads('\"pandey\\\\r shishir\"'))\n",
    "# print(json.dumps(\"😁\"))"
   ]
  },
  {
   "cell_type": "code",
   "execution_count": null,
   "metadata": {},
   "outputs": [],
   "source": [
    "def number_parse(input_string):\n",
    "    index = 0\n",
    "    if index < len(input_string) and input_string[index] == \"-\":\n",
    "        index = index + 1\n",
    "        if index < len(input_string) and input_string[index] == \"0\":\n",
    "            index = index + 1\n",
    "        elif index < len(input_string) and (\n",
    "            (input_string[index]).isdigit() and input_string[index] != \"0\"\n",
    "        ):\n",
    "            while index < len(input_string) and (input_string[index]).isdigit():\n",
    "                index = index + 1\n",
    "\n",
    "    elif index < len(input_string) and (\n",
    "        (input_string[index]).isdigit() and input_string[index] != \"0\"\n",
    "    ):\n",
    "        while index < len(input_string) and (input_string[index]).isdigit():\n",
    "            index = index + 1\n",
    "\n",
    "    elif index < len(input_string) and input_string[index] == \"0\":\n",
    "        index = index + 1\n",
    "\n",
    "    else:\n",
    "        return None\n",
    "    # if index==len(input_string):\n",
    "    # return float(input_string[:index])\n",
    "\n",
    "    if index < len(input_string) and input_string[index] == \".\":\n",
    "        index = index + 1\n",
    "        while index < len(input_string) and ((input_string[index]).isdigit()):\n",
    "            index = index + 1\n",
    "\n",
    "    elif index < len(input_string) and (\n",
    "        input_string[index] == \"E\" or input_string[index] == \"e\"\n",
    "    ):\n",
    "\n",
    "        index = index + 1\n",
    "        if (\n",
    "            index < len(input_string)\n",
    "            and input_string[index] == \"+\"\n",
    "            or input_string[index] == \"-\"\n",
    "        ):\n",
    "            index = index + 1\n",
    "            if index < len(input_string) and input_string[index].isdigit():\n",
    "                while index < len(input_string) and (input_string[index]).isdigit():\n",
    "                    index = index + 1\n",
    "            else:\n",
    "                return None\n",
    "\n",
    "        elif index < len(input_string) and input_string[index].isdigit():\n",
    "            while index < len(input_string) and (input_string[index]).isdigit():\n",
    "                index = index + 1\n",
    "        else:\n",
    "            return None\n",
    "    if input_string[:index] == \"-\":\n",
    "        return None\n",
    "    return float(input_string[:index]), input_string[index:]"
   ]
  },
  {
   "cell_type": "code",
   "execution_count": 67,
   "metadata": {},
   "outputs": [
    {
     "data": {
      "text/plain": [
       "(-0.0, '6 Shishir')"
      ]
     },
     "execution_count": 67,
     "metadata": {},
     "output_type": "execute_result"
    }
   ],
   "source": [
    "number_parse(\"-06 Shishir\")"
   ]
  }
 ],
 "metadata": {
  "kernelspec": {
   "display_name": "Python 3",
   "language": "python",
   "name": "python3"
  },
  "language_info": {
   "codemirror_mode": {
    "name": "ipython",
    "version": 3
   },
   "file_extension": ".py",
   "mimetype": "text/x-python",
   "name": "python",
   "nbconvert_exporter": "python",
   "pygments_lexer": "ipython3",
   "version": "3.12.3"
  }
 },
 "nbformat": 4,
 "nbformat_minor": 2
}
