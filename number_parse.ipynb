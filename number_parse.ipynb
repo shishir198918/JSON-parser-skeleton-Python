{
 "cells": [
  {
   "cell_type": "code",
   "execution_count": 59,
   "metadata": {},
   "outputs": [
    {
     "data": {
      "text/plain": [
       "-780.0"
      ]
     },
     "execution_count": 59,
     "metadata": {},
     "output_type": "execute_result"
    }
   ],
   "source": [
    "import json\n",
    "\n",
    "json.loads(\"-78E+0001\")\n",
    "# print(json.dumps(\"😁\"))"
   ]
  },
  {
   "cell_type": "code",
   "execution_count": null,
   "metadata": {},
   "outputs": [],
   "source": [
    "def number_parse(input_string):\n",
    "    index = 0\n",
    "    if index < len(input_string) and input_string[index] == \"-\":\n",
    "        index = index + 1\n",
    "        if index < len(input_string) and input_string[index] == \"0\":\n",
    "            index = index + 1\n",
    "        elif index < len(input_string) and (input_string[index]).isdigit():\n",
    "            while index < len(input_string) and (input_string[index]).isdigit():\n",
    "                index = index + 1\n",
    "\n",
    "    elif index < len(input_string) and (input_string[index]).isdigit():\n",
    "        while index < len(input_string) and (input_string[index]).isdigit():\n",
    "            index = index + 1\n",
    "\n",
    "    elif index < len(input_string) and input_string[index] == \"0\":\n",
    "        index = index + 1\n",
    "\n",
    "    else:\n",
    "        return None\n",
    "    # if index==len(input_string):\n",
    "    # return float(input_string[:index])\n",
    "\n",
    "    if index < len(input_string) and input_string[index] == \".\":\n",
    "        index = index + 1\n",
    "        while index < len(input_string) and ((input_string[index]).isdigit()):\n",
    "            index = index + 1\n",
    "\n",
    "    elif index < len(input_string) and (\n",
    "        input_string[index] == \"E\" or input_string[index] == \"e\"\n",
    "    ):\n",
    "\n",
    "        index = index + 1\n",
    "        if (\n",
    "            index < len(input_string)\n",
    "            and input_string[index] == \"+\"\n",
    "            or input_string[index] == \"-\"\n",
    "        ):\n",
    "            index = index + 1\n",
    "            if index < len(input_string) and input_string[index].isdigit():\n",
    "                while index < len(input_string) and (input_string[index]).isdigit():\n",
    "                    index = index + 1\n",
    "            else:\n",
    "                return None\n",
    "\n",
    "        elif index < len(input_string) and input_string[index].isdigit():\n",
    "            while index < len(input_string) and (input_string[index]).isdigit():\n",
    "                index = index + 1\n",
    "        else:\n",
    "            return None\n",
    "    if input_string[:index] == \"-\":\n",
    "        return None\n",
    "    return float(input_string[:index]), input_string[index:]"
   ]
  },
  {
   "cell_type": "code",
   "execution_count": 60,
   "metadata": {},
   "outputs": [],
   "source": [
    "number_parse(\"-+ Shishir\")"
   ]
  }
 ],
 "metadata": {
  "kernelspec": {
   "display_name": "Python 3",
   "language": "python",
   "name": "python3"
  },
  "language_info": {
   "codemirror_mode": {
    "name": "ipython",
    "version": 3
   },
   "file_extension": ".py",
   "mimetype": "text/x-python",
   "name": "python",
   "nbconvert_exporter": "python",
   "pygments_lexer": "ipython3",
   "version": "3.12.3"
  }
 },
 "nbformat": 4,
 "nbformat_minor": 2
}
