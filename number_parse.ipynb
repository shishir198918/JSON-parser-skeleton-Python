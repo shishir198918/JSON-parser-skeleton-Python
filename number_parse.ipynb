{
 "cells": [
  {
   "cell_type": "code",
   "execution_count": 489,
   "metadata": {},
   "outputs": [
    {
     "ename": "JSONDecodeError",
     "evalue": "Expecting property name enclosed in double quotes: line 2 column 5 (char 6)",
     "output_type": "error",
     "traceback": [
      "\u001b[1;31m---------------------------------------------------------------------------\u001b[0m",
      "\u001b[1;31mJSONDecodeError\u001b[0m                           Traceback (most recent call last)",
      "Cell \u001b[1;32mIn[489], line 6\u001b[0m\n\u001b[0;32m      1\u001b[0m \u001b[38;5;28;01mimport\u001b[39;00m \u001b[38;5;21;01mjson\u001b[39;00m\n\u001b[0;32m      2\u001b[0m \u001b[38;5;28;01mimport\u001b[39;00m \u001b[38;5;21;01mos\u001b[39;00m\n\u001b[1;32m----> 6\u001b[0m \u001b[43mjson\u001b[49m\u001b[38;5;241;43m.\u001b[39;49m\u001b[43mloads\u001b[49m\u001b[43m(\u001b[49m\u001b[43mstring\u001b[49m\u001b[43m)\u001b[49m\n\u001b[0;32m      9\u001b[0m \u001b[38;5;66;03m# print(json.dumps(\"😁\"))\u001b[39;00m\n",
      "File \u001b[1;32mc:\\Users\\Shiment\\AppData\\Local\\Programs\\Python\\Python312\\Lib\\json\\__init__.py:346\u001b[0m, in \u001b[0;36mloads\u001b[1;34m(s, cls, object_hook, parse_float, parse_int, parse_constant, object_pairs_hook, **kw)\u001b[0m\n\u001b[0;32m    341\u001b[0m     s \u001b[38;5;241m=\u001b[39m s\u001b[38;5;241m.\u001b[39mdecode(detect_encoding(s), \u001b[38;5;124m'\u001b[39m\u001b[38;5;124msurrogatepass\u001b[39m\u001b[38;5;124m'\u001b[39m)\n\u001b[0;32m    343\u001b[0m \u001b[38;5;28;01mif\u001b[39;00m (\u001b[38;5;28mcls\u001b[39m \u001b[38;5;129;01mis\u001b[39;00m \u001b[38;5;28;01mNone\u001b[39;00m \u001b[38;5;129;01mand\u001b[39;00m object_hook \u001b[38;5;129;01mis\u001b[39;00m \u001b[38;5;28;01mNone\u001b[39;00m \u001b[38;5;129;01mand\u001b[39;00m\n\u001b[0;32m    344\u001b[0m         parse_int \u001b[38;5;129;01mis\u001b[39;00m \u001b[38;5;28;01mNone\u001b[39;00m \u001b[38;5;129;01mand\u001b[39;00m parse_float \u001b[38;5;129;01mis\u001b[39;00m \u001b[38;5;28;01mNone\u001b[39;00m \u001b[38;5;129;01mand\u001b[39;00m\n\u001b[0;32m    345\u001b[0m         parse_constant \u001b[38;5;129;01mis\u001b[39;00m \u001b[38;5;28;01mNone\u001b[39;00m \u001b[38;5;129;01mand\u001b[39;00m object_pairs_hook \u001b[38;5;129;01mis\u001b[39;00m \u001b[38;5;28;01mNone\u001b[39;00m \u001b[38;5;129;01mand\u001b[39;00m \u001b[38;5;129;01mnot\u001b[39;00m kw):\n\u001b[1;32m--> 346\u001b[0m     \u001b[38;5;28;01mreturn\u001b[39;00m \u001b[43m_default_decoder\u001b[49m\u001b[38;5;241;43m.\u001b[39;49m\u001b[43mdecode\u001b[49m\u001b[43m(\u001b[49m\u001b[43ms\u001b[49m\u001b[43m)\u001b[49m\n\u001b[0;32m    347\u001b[0m \u001b[38;5;28;01mif\u001b[39;00m \u001b[38;5;28mcls\u001b[39m \u001b[38;5;129;01mis\u001b[39;00m \u001b[38;5;28;01mNone\u001b[39;00m:\n\u001b[0;32m    348\u001b[0m     \u001b[38;5;28mcls\u001b[39m \u001b[38;5;241m=\u001b[39m JSONDecoder\n",
      "File \u001b[1;32mc:\\Users\\Shiment\\AppData\\Local\\Programs\\Python\\Python312\\Lib\\json\\decoder.py:337\u001b[0m, in \u001b[0;36mJSONDecoder.decode\u001b[1;34m(self, s, _w)\u001b[0m\n\u001b[0;32m    332\u001b[0m \u001b[38;5;28;01mdef\u001b[39;00m \u001b[38;5;21mdecode\u001b[39m(\u001b[38;5;28mself\u001b[39m, s, _w\u001b[38;5;241m=\u001b[39mWHITESPACE\u001b[38;5;241m.\u001b[39mmatch):\n\u001b[0;32m    333\u001b[0m \u001b[38;5;250m    \u001b[39m\u001b[38;5;124;03m\"\"\"Return the Python representation of ``s`` (a ``str`` instance\u001b[39;00m\n\u001b[0;32m    334\u001b[0m \u001b[38;5;124;03m    containing a JSON document).\u001b[39;00m\n\u001b[0;32m    335\u001b[0m \n\u001b[0;32m    336\u001b[0m \u001b[38;5;124;03m    \"\"\"\u001b[39;00m\n\u001b[1;32m--> 337\u001b[0m     obj, end \u001b[38;5;241m=\u001b[39m \u001b[38;5;28;43mself\u001b[39;49m\u001b[38;5;241;43m.\u001b[39;49m\u001b[43mraw_decode\u001b[49m\u001b[43m(\u001b[49m\u001b[43ms\u001b[49m\u001b[43m,\u001b[49m\u001b[43m \u001b[49m\u001b[43midx\u001b[49m\u001b[38;5;241;43m=\u001b[39;49m\u001b[43m_w\u001b[49m\u001b[43m(\u001b[49m\u001b[43ms\u001b[49m\u001b[43m,\u001b[49m\u001b[43m \u001b[49m\u001b[38;5;241;43m0\u001b[39;49m\u001b[43m)\u001b[49m\u001b[38;5;241;43m.\u001b[39;49m\u001b[43mend\u001b[49m\u001b[43m(\u001b[49m\u001b[43m)\u001b[49m\u001b[43m)\u001b[49m\n\u001b[0;32m    338\u001b[0m     end \u001b[38;5;241m=\u001b[39m _w(s, end)\u001b[38;5;241m.\u001b[39mend()\n\u001b[0;32m    339\u001b[0m     \u001b[38;5;28;01mif\u001b[39;00m end \u001b[38;5;241m!=\u001b[39m \u001b[38;5;28mlen\u001b[39m(s):\n",
      "File \u001b[1;32mc:\\Users\\Shiment\\AppData\\Local\\Programs\\Python\\Python312\\Lib\\json\\decoder.py:353\u001b[0m, in \u001b[0;36mJSONDecoder.raw_decode\u001b[1;34m(self, s, idx)\u001b[0m\n\u001b[0;32m    344\u001b[0m \u001b[38;5;250m\u001b[39m\u001b[38;5;124;03m\"\"\"Decode a JSON document from ``s`` (a ``str`` beginning with\u001b[39;00m\n\u001b[0;32m    345\u001b[0m \u001b[38;5;124;03ma JSON document) and return a 2-tuple of the Python\u001b[39;00m\n\u001b[0;32m    346\u001b[0m \u001b[38;5;124;03mrepresentation and the index in ``s`` where the document ended.\u001b[39;00m\n\u001b[1;32m   (...)\u001b[0m\n\u001b[0;32m    350\u001b[0m \n\u001b[0;32m    351\u001b[0m \u001b[38;5;124;03m\"\"\"\u001b[39;00m\n\u001b[0;32m    352\u001b[0m \u001b[38;5;28;01mtry\u001b[39;00m:\n\u001b[1;32m--> 353\u001b[0m     obj, end \u001b[38;5;241m=\u001b[39m \u001b[38;5;28;43mself\u001b[39;49m\u001b[38;5;241;43m.\u001b[39;49m\u001b[43mscan_once\u001b[49m\u001b[43m(\u001b[49m\u001b[43ms\u001b[49m\u001b[43m,\u001b[49m\u001b[43m \u001b[49m\u001b[43midx\u001b[49m\u001b[43m)\u001b[49m\n\u001b[0;32m    354\u001b[0m \u001b[38;5;28;01mexcept\u001b[39;00m \u001b[38;5;167;01mStopIteration\u001b[39;00m \u001b[38;5;28;01mas\u001b[39;00m err:\n\u001b[0;32m    355\u001b[0m     \u001b[38;5;28;01mraise\u001b[39;00m JSONDecodeError(\u001b[38;5;124m\"\u001b[39m\u001b[38;5;124mExpecting value\u001b[39m\u001b[38;5;124m\"\u001b[39m, s, err\u001b[38;5;241m.\u001b[39mvalue) \u001b[38;5;28;01mfrom\u001b[39;00m \u001b[38;5;28;01mNone\u001b[39;00m\n",
      "\u001b[1;31mJSONDecodeError\u001b[0m: Expecting property name enclosed in double quotes: line 2 column 5 (char 6)"
     ]
    }
   ],
   "source": [
    "import json\n",
    "import os\n",
    "\n",
    "\n",
    "\n",
    "json.loads(string)\n",
    "\n",
    "\n",
    "# print(json.dumps(\"😁\"))"
   ]
  },
  {
   "cell_type": "code",
   "execution_count": null,
   "metadata": {},
   "outputs": [],
   "source": [
    "def parse_number(input_string):\n",
    "    input_string = whitespace_parse(input_string)\n",
    "\n",
    "\n",
    "    index = 0\n",
    "\n",
    "\n",
    "    if index < len(input_string) and input_string[index] == \"-\":\n",
    "\n",
    "\n",
    "        index = index + 1\n",
    "\n",
    "\n",
    "        if index < len(input_string) and input_string[index] == \"0\":\n",
    "\n",
    "\n",
    "            index = index + 1\n",
    "\n",
    "\n",
    "        elif index < len(input_string) and (\n",
    "            (input_string[index]).isdigit() and input_string[index] != \"0\"\n",
    "        ):\n",
    "\n",
    "\n",
    "            while index < len(input_string) and (input_string[index]).isdigit():\n",
    "\n",
    "\n",
    "                index = index + 1\n",
    "\n",
    "\n",
    "    elif index < len(input_string) and (\n",
    "        (input_string[index]).isdigit() and input_string[index] != \"0\"\n",
    "    ):\n",
    "\n",
    "\n",
    "        while index < len(input_string) and (input_string[index]).isdigit():\n",
    "\n",
    "\n",
    "            index = index + 1\n",
    "\n",
    "\n",
    "    elif index < len(input_string) and input_string[index] == \"0\":\n",
    "\n",
    "\n",
    "        index = index + 1\n",
    "\n",
    "    else:\n",
    "\n",
    "\n",
    "        return None\n",
    "\n",
    "\n",
    "    # if index==len(input_string):\n",
    "\n",
    "\n",
    "    # return float(input_string[:index])\n",
    "\n",
    "\n",
    "    if index < len(input_string) and input_string[index] == \".\":\n",
    "\n",
    "\n",
    "        index = index + 1\n",
    "\n",
    "\n",
    "        while index < len(input_string) and ((input_string[index]).isdigit()):\n",
    "\n",
    "\n",
    "            index = index + 1\n",
    "\n",
    "\n",
    "    if index < len(input_string) and (\n",
    "        input_string[index] == \"E\" or input_string[index] == \"e\"\n",
    "    ):\n",
    "\n",
    "\n",
    "        index = index + 1\n",
    "\n",
    "\n",
    "        if (\n",
    "            index < len(input_string)\n",
    "            and input_string[index] == \"+\"\n",
    "            or input_string[index] == \"-\"\n",
    "        ):\n",
    "\n",
    "\n",
    "            index = index + 1\n",
    "\n",
    "\n",
    "            if index < len(input_string) and input_string[index].isdigit():\n",
    "\n",
    "\n",
    "                while index < len(input_string) and (input_string[index]).isdigit():\n",
    "\n",
    "\n",
    "                    index = index + 1\n",
    "            else:\n",
    "\n",
    "\n",
    "                return None\n",
    "\n",
    "\n",
    "        elif index < len(input_string) and input_string[index].isdigit():\n",
    "\n",
    "\n",
    "            while index < len(input_string) and (input_string[index]).isdigit():\n",
    "\n",
    "\n",
    "                index = index + 1\n",
    "        else:\n",
    "\n",
    "\n",
    "            return None\n",
    "\n",
    "\n",
    "    if input_string[:index] == \"-\":\n",
    "\n",
    "\n",
    "        return None\n",
    "\n",
    "\n",
    "    return float(input_string[:index]), input_string[index:]"
   ]
  },
  {
   "cell_type": "code",
   "execution_count": null,
   "metadata": {},
   "outputs": [
    {
     "data": {
      "text/plain": [
       "(100.0, '')"
      ]
     },
     "execution_count": 486,
     "metadata": {},
     "output_type": "execute_result"
    }
   ],
   "source": [
    "parse_number(\"10E01\")"
   ]
  },
  {
   "cell_type": "code",
   "execution_count": null,
   "metadata": {},
   "outputs": [],
   "source": [
    "def four_step(index, input_string):\n",
    "    if input_string[index] == \"u\":\n",
    "        pass\n",
    "\n",
    "\n",
    "def one_step(index, input_string):\n",
    "    charc = {\"b\": \"\\b\", '\"': '\"', \"f\": \"\\f\", \"n\": \"\\n\", \"r\": \"\\r\", \"t\": \"\\t\"}\n",
    "    if input_string[index] in charc.keys():\n",
    "        # print(len(input_string[index - 1] + input_string[index]))\n",
    "        return charc[input_string[index]]\n",
    "    else:\n",
    "        pass\n",
    "\n",
    "\n",
    "def parse_string(input_string):\n",
    "    input_string = whitespace_parse(input_string)\n",
    "    output_string = \"\"\n",
    "    index = 1\n",
    "    if input_string[0] == '\"':  # check for not present insted of having\n",
    "\n",
    "        while index < len(input_string) and input_string[index] != '\"':\n",
    "            if input_string[index] == \"\\\\\" and input_string[index + 1] == \"u\":\n",
    "                index = index + 5\n",
    "\n",
    "            if input_string[index] == \"\\\\\":\n",
    "                output_string = output_string[:index] + one_step(\n",
    "                    index + 1, input_string\n",
    "                )\n",
    "                index = index + 2\n",
    "            else:\n",
    "                output_string = output_string + input_string[index]\n",
    "                index = index + 1\n",
    "\n",
    "            if input_string[index] == '\"':\n",
    "                # print(output_string, input_string[index + 1 :])\n",
    "                return output_string, input_string[index + 1 :]"
   ]
  },
  {
   "cell_type": "code",
   "execution_count": null,
   "metadata": {},
   "outputs": [
    {
     "data": {
      "text/plain": [
       "('shir', '')"
      ]
     },
     "execution_count": 488,
     "metadata": {},
     "output_type": "execute_result"
    }
   ],
   "source": [
    "parse_string('\"shir\"')"
   ]
  },
  {
   "cell_type": "code",
   "execution_count": null,
   "metadata": {},
   "outputs": [],
   "source": [
    "def parse_null(input_string):\n",
    "    \"\"\"parses null\n",
    "\n",
    "    >>> parse_null(\"null rest\")\n",
    "    (None, \" rest\")\n",
    "\n",
    "    >>> parse_null(\"something else\")\n",
    "    None\n",
    "\n",
    "\n",
    "    \"\"\"\n",
    "    input_string = whitespace_parse(input_string)\n",
    "    if (\n",
    "        input_string[:4] == \"null\"\n",
    "        or input_string[:4] == \"Null\"\n",
    "        or input_string[:4] == \"NULL\"\n",
    "    ):\n",
    "        return None, input_string[4:]\n",
    "    else:\n",
    "        print(parse_null)\n",
    "        # return None\n",
    "\n",
    "\n",
    "def parse_bool(input_string):\n",
    "    \"\"\"Parses boolean\n",
    "\n",
    "    >>> parse_bool(\"true rest\")\n",
    "    (True, \" rest\")\n",
    "\n",
    "    >>> parse_bool(\"something else\")\n",
    "    None\n",
    "\n",
    "    \"\"\"\n",
    "    input_string = whitespace_parse(input_string)\n",
    "    if input_string[:4] == \"true\":\n",
    "        return True, input_string[4:]\n",
    "    elif input_string[:5] == \"false\":\n",
    "        return False, input_string[5:]"
   ]
  },
  {
   "cell_type": "code",
   "execution_count": null,
   "metadata": {},
   "outputs": [
    {
     "name": "stdout",
     "output_type": "stream",
     "text": [
      "Return hota hai ya nahi\n"
     ]
    }
   ],
   "source": [
    "def shi(input):\n",
    "    if input == 1:\n",
    "        return \"yes\"\n",
    "    else:\n",
    "        print(\"Return hota hai ya nahi\")\n",
    "\n",
    "\n",
    "if shi(2):\n",
    "    print(\"Retun nahi hota hai\")"
   ]
  },
  {
   "cell_type": "code",
   "execution_count": null,
   "metadata": {},
   "outputs": [
    {
     "data": {
      "text/plain": [
       "(None, '')"
      ]
     },
     "execution_count": 415,
     "metadata": {},
     "output_type": "execute_result"
    }
   ],
   "source": [
    "parse_null(\"null\")"
   ]
  },
  {
   "cell_type": "code",
   "execution_count": null,
   "metadata": {},
   "outputs": [],
   "source": [
    "def whitespace_parse(input_string):\n",
    "    whitespace = \" \\t\\n\\r\"\n",
    "    start_index = 0\n",
    "    end_index = len(input_string)\n",
    "    while start_index < end_index and input_string[start_index] in whitespace:\n",
    "        start_index = start_index + 1\n",
    "    while start_index < end_index and input_string[end_index - 1] in whitespace:\n",
    "        end_index = end_index - 1\n",
    "    return input_string[start_index:end_index]"
   ]
  },
  {
   "cell_type": "code",
   "execution_count": null,
   "metadata": {},
   "outputs": [
    {
     "data": {
      "text/plain": [
       "'[{]'"
      ]
     },
     "execution_count": 417,
     "metadata": {},
     "output_type": "execute_result"
    }
   ],
   "source": [
    "whitespace_parse(\"   [{] \")"
   ]
  },
  {
   "cell_type": "code",
   "execution_count": null,
   "metadata": {},
   "outputs": [
    {
     "data": {
      "text/plain": [
       "(-0.0, '6 Shishir')"
      ]
     },
     "execution_count": 418,
     "metadata": {},
     "output_type": "execute_result"
    }
   ],
   "source": [
    "parse_number(\"-06 Shishir\")"
   ]
  },
  {
   "cell_type": "code",
   "execution_count": null,
   "metadata": {},
   "outputs": [],
   "source": [
    "def value(input_string):\n",
    "\n",
    "    input_string = whitespace_parse(input_string)\n",
    "    # print(input_string)\n",
    "    a = parse_null(input_string)\n",
    "\n",
    "    if a:\n",
    "        print(\"null\")\n",
    "        return a\n",
    "\n",
    "    b = parse_bool(input_string)\n",
    "\n",
    "    if b:\n",
    "        print(\"bool\")\n",
    "        return b\n",
    "\n",
    "    c = parse_number(input_string)\n",
    "\n",
    "    if c:\n",
    "        print()\n",
    "        return c\n",
    "\n",
    "    d = parse_string(input_string)\n",
    "\n",
    "    if d:\n",
    "        # print(d)\n",
    "        return d\n",
    "\n",
    "    e = parse_array(input_string)\n",
    "\n",
    "    if e:\n",
    "        print(\"Array\")\n",
    "        return e\n",
    "    f = parse_object(input_string)\n",
    "    if f:\n",
    "        print(\"Object\")\n",
    "        return f\n",
    "\n",
    "\n",
    "def parse_array(input_string):\n",
    "    \"\"\"Parses array\n",
    "\n",
    "    >>> parse_array('[1, 2, 3] rest')\n",
    "    ([1.0, 2.0, 3.0], ' rest')\n",
    "\n",
    "    >>> parse_array('something else') is None\n",
    "    True\n",
    "    \"\"\"\n",
    "\n",
    "    input_string = whitespace_parse(input_string)\n",
    "    if input_string[0] != \"[\":\n",
    "        return None\n",
    "    l1_list = []\n",
    "\n",
    "    substring = whitespace_parse(input_string[1:])\n",
    "\n",
    "    if substring[0] == \"]\":\n",
    "\n",
    "        return l1_list, substring[1:]\n",
    "\n",
    "    check = value(substring)\n",
    "\n",
    "    while check and (\n",
    "        whitespace_parse(check[1])[0] == \",\" or whitespace_parse(check[1])[0] == \"]\"\n",
    "    ):\n",
    "        l1_list.append(check[0])\n",
    "        # print(l1_list, check[1])\n",
    "        substring = whitespace_parse(check[1])\n",
    "        if substring[0] == \"]\":\n",
    "            return l1_list, substring[1:]\n",
    "        check = value(check[1][1:])\n",
    "        # for checking if value rest of string return \"\"\n",
    "        if check:\n",
    "            if check[1]:\n",
    "                continue\n",
    "            else:\n",
    "                break\n",
    "        else:\n",
    "            break"
   ]
  },
  {
   "cell_type": "code",
   "execution_count": 491,
   "metadata": {},
   "outputs": [
    {
     "name": "stdout",
     "output_type": "stream",
     "text": [
      "\n"
     ]
    },
    {
     "data": {
      "text/plain": [
       "([1.0], '')"
      ]
     },
     "execution_count": 491,
     "metadata": {},
     "output_type": "execute_result"
    }
   ],
   "source": [
    "parse_array(\"    [   1   ]    \")"
   ]
  },
  {
   "cell_type": "code",
   "execution_count": null,
   "metadata": {},
   "outputs": [],
   "source": [
    "parse_array(\"[1,-2,3,4,[02,3,4]]\")"
   ]
  },
  {
   "cell_type": "code",
   "execution_count": 499,
   "metadata": {},
   "outputs": [],
   "source": [
    "def key_value_parser(input_string):\n",
    "    input_string = whitespace_parse(input_string)\n",
    "    # print(input_string)\n",
    "    string = string_parser(input_string)\n",
    "\n",
    "    if string:\n",
    "        # check for rest string is not null\n",
    "        if string[1]:\n",
    "\n",
    "            rest = whitespace_parse(string[1])\n",
    "\n",
    "            if rest[0] == \":\":\n",
    "                entry = value((rest[1:]))\n",
    "                if entry:\n",
    "\n",
    "                    return string[0], entry\n",
    "\n",
    "\n",
    "def parse_object(input_string):\n",
    "    input_string = whitespace_parse(input_string)\n",
    "\n",
    "    # print(input_string[1])\n",
    "\n",
    "    if input_string[0] != \"{\":\n",
    "        return None\n",
    "    d1_dict = {}\n",
    "    subString = whitespace_parse(input_string[1:])\n",
    "    if subString[0] == \"}\":\n",
    "        return d1_dict, subString[1:]\n",
    "    check = key_value_parser(subString)\n",
    "\n",
    "    print(subString)\n",
    "\n",
    "    while check and (\n",
    "        whitespace_parse(check[1][1])[0] == \",\"\n",
    "        or whitespace_parse(check[1][1])[0] == \"}\"\n",
    "    ):\n",
    "        print(check)\n",
    "        d1_dict[check[0]] = check[1][0]\n",
    "        # print(check[1][1])\n",
    "        subString = whitespace_parse(check[1][1])\n",
    "        if subString[0] == \"}\":\n",
    "            # print(check)\n",
    "            return d1_dict, subString[1:]\n",
    "        check = key_value_parser(subString)\n",
    "        # print(check)\n",
    "        if check:\n",
    "            if check[1][1]:\n",
    "                continue\n",
    "            else:\n",
    "                print(check[1][0])\n",
    "                break\n",
    "        else:\n",
    "            break"
   ]
  },
  {
   "cell_type": "code",
   "execution_count": null,
   "metadata": {},
   "outputs": [
    {
     "name": "stdout",
     "output_type": "stream",
     "text": [
      "{\n",
      "        \"id\": 10259,\n",
      "        \"cuisine\": \"greek\",\n",
      "        \"ingredients\": [\n",
      "            \"romaine lettuce\",\n",
      "            \"black olives\",\n",
      "            \"grape tomatoes\",\n",
      "            \"garlic\",\n",
      "            \"pepper\",\n",
      "            \"purple onion\",\n",
      "            \"seasoning\",\n",
      "            \"garbanzo beans\",\n",
      "            \"feta cheese crumbles\"\n",
      "        ]\n",
      "    }\n",
      "}\n"
     ]
    }
   ],
   "source": [
    "parse_object(\n",
    "    '{\\n    {\\n        \"id\": 10259,\\n        \"cuisine\": \"greek\",\\n        \"ingredients\": [\\n            \"romaine lettuce\",\\n            \"black olives\",\\n            \"grape tomatoes\",\\n            \"garlic\",\\n            \"pepper\",\\n            \"purple onion\",\\n            \"seasoning\",\\n            \"garbanzo beans\",\\n            \"feta cheese crumbles\"\\n        ]\\n    }\\n}'\n",
    ")"
   ]
  },
  {
   "cell_type": "code",
   "execution_count": null,
   "metadata": {},
   "outputs": [],
   "source": [
    "def parse_json(input_string):\n",
    "    check = value(input_string)\n",
    "    if check:\n",
    "        if check[1]:\n",
    "            raise Exception(\"Substring not in Json format\")\n",
    "        return check[0]\n",
    "    else:\n",
    "        raise Exception(\"Provide the correct Json format \")"
   ]
  },
  {
   "cell_type": "code",
   "execution_count": null,
   "metadata": {},
   "outputs": [
    {
     "name": "stdout",
     "output_type": "stream",
     "text": [
      "('my', ('value', '}, 2, \"just string\"]'))\n"
     ]
    },
    {
     "data": {
      "text/plain": [
       "[{'my': 'value'}, 2.0, 'just string']"
      ]
     },
     "execution_count": 426,
     "metadata": {},
     "output_type": "execute_result"
    }
   ],
   "source": [
    "parse_json()"
   ]
  },
  {
   "cell_type": "code",
   "execution_count": null,
   "metadata": {},
   "outputs": [
    {
     "data": {
      "text/plain": [
       "['.git',\n",
       " 'JASON_Parser.ipynb',\n",
       " 'json',\n",
       " 'JSON File',\n",
       " 'number_parse.ipynb',\n",
       " 'parser.py']"
      ]
     },
     "execution_count": 427,
     "metadata": {},
     "output_type": "execute_result"
    }
   ],
   "source": [
    "os.listdir(os.getcwd())"
   ]
  },
  {
   "cell_type": "code",
   "execution_count": null,
   "metadata": {},
   "outputs": [
    {
     "data": {
      "text/plain": [
       "'c:\\\\Users\\\\Shiment\\\\Documents\\\\Bit-by-bit\\\\JSON-parser-skeleton-Python'"
      ]
     },
     "execution_count": 428,
     "metadata": {},
     "output_type": "execute_result"
    }
   ],
   "source": [
    "os.getcwd()"
   ]
  },
  {
   "cell_type": "code",
   "execution_count": null,
   "metadata": {},
   "outputs": [],
   "source": [
    "path = \"c:\\\\Users\\\\Shiment\\\\Documents\\\\Bit-by-bit\\\\JSON-parser-skeleton-Python\\\\JSON File\\\\object.json\"\n",
    "file = open(path, \"r\", encoding=\"utf-8\")\n",
    "string = file.read()"
   ]
  },
  {
   "cell_type": "code",
   "execution_count": null,
   "metadata": {},
   "outputs": [
    {
     "data": {
      "text/plain": [
       "'{\\n    {\\n        \"id\": 10259,\\n        \"cuisine\": \"greek\",\\n        \"ingredients\": [\\n            \"romaine lettuce\",\\n            \"black olives\",\\n            \"grape tomatoes\",\\n            \"garlic\",\\n            \"pepper\",\\n            \"purple onion\",\\n            \"seasoning\",\\n            \"garbanzo beans\",\\n            \"feta cheese crumbles\"\\n        ]\\n    }\\n}'"
      ]
     },
     "execution_count": 458,
     "metadata": {},
     "output_type": "execute_result"
    }
   ],
   "source": [
    "string"
   ]
  },
  {
   "cell_type": "code",
   "execution_count": null,
   "metadata": {},
   "outputs": [
    {
     "ename": "Exception",
     "evalue": "Provide the correct Json format ",
     "output_type": "error",
     "traceback": [
      "\u001b[1;31m---------------------------------------------------------------------------\u001b[0m",
      "\u001b[1;31mException\u001b[0m                                 Traceback (most recent call last)",
      "Cell \u001b[1;32mIn[459], line 1\u001b[0m\n\u001b[1;32m----> 1\u001b[0m \u001b[43mparse_json\u001b[49m\u001b[43m(\u001b[49m\u001b[43mstring\u001b[49m\u001b[43m)\u001b[49m\n",
      "Cell \u001b[1;32mIn[425], line 8\u001b[0m, in \u001b[0;36mparse_json\u001b[1;34m(input_string)\u001b[0m\n\u001b[0;32m      6\u001b[0m     \u001b[38;5;28;01mreturn\u001b[39;00m check[\u001b[38;5;241m0\u001b[39m]\n\u001b[0;32m      7\u001b[0m \u001b[38;5;28;01melse\u001b[39;00m:\n\u001b[1;32m----> 8\u001b[0m     \u001b[38;5;28;01mraise\u001b[39;00m \u001b[38;5;167;01mException\u001b[39;00m(\u001b[38;5;124m\"\u001b[39m\u001b[38;5;124mProvide the correct Json format \u001b[39m\u001b[38;5;124m\"\u001b[39m)\n",
      "\u001b[1;31mException\u001b[0m: Provide the correct Json format "
     ]
    }
   ],
   "source": [
    "parse_json(string)"
   ]
  }
 ],
 "metadata": {
  "kernelspec": {
   "display_name": "Python 3",
   "language": "python",
   "name": "python3"
  },
  "language_info": {
   "codemirror_mode": {
    "name": "ipython",
    "version": 3
   },
   "file_extension": ".py",
   "mimetype": "text/x-python",
   "name": "python",
   "nbconvert_exporter": "python",
   "pygments_lexer": "ipython3",
   "version": "3.12.3"
  }
 },
 "nbformat": 4,
 "nbformat_minor": 2
}
