{
 "cells": [
  {
   "cell_type": "code",
   "execution_count": 12,
   "metadata": {},
   "outputs": [],
   "source": [
    "def whitespace_parse(input_string):\n",
    "    whitespace = \" \\t\\n\\r\"\n",
    "\n",
    "    start_index = 0\n",
    "    end_index = len(input_string)\n",
    "    while start_index < end_index and (input_string[start_index] in whitespace):\n",
    "\n",
    "        start_index = start_index + 1\n",
    "    while start_index < end_index and input_string[end_index - 1] in whitespace:\n",
    "        end_index = end_index - 1\n",
    "    return input_string[start_index:end_index]"
   ]
  },
  {
   "cell_type": "code",
   "execution_count": 13,
   "metadata": {},
   "outputs": [],
   "source": [
    "def parse_number(input_string):\n",
    "    input_string = whitespace_parse(input_string)\n",
    "\n",
    "    index = 0\n",
    "\n",
    "    if index < len(input_string) and input_string[index] == \"-\":\n",
    "\n",
    "        index = index + 1\n",
    "\n",
    "        if index < len(input_string) and input_string[index] == \"0\":\n",
    "\n",
    "            index = index + 1\n",
    "\n",
    "        elif index < len(input_string) and (\n",
    "            (input_string[index]).isdigit() and input_string[index] != \"0\"\n",
    "        ):\n",
    "\n",
    "            while index < len(input_string) and (input_string[index]).isdigit():\n",
    "\n",
    "                index = index + 1\n",
    "\n",
    "    elif index < len(input_string) and (\n",
    "        (input_string[index]).isdigit() and input_string[index] != \"0\"\n",
    "    ):\n",
    "\n",
    "        while index < len(input_string) and (input_string[index]).isdigit():\n",
    "\n",
    "            index = index + 1\n",
    "\n",
    "    elif index < len(input_string) and input_string[index] == \"0\":\n",
    "\n",
    "        index = index + 1\n",
    "\n",
    "    else:\n",
    "\n",
    "        return None\n",
    "\n",
    "    # if index==len(input_string):\n",
    "\n",
    "    # return float(input_string[:index])\n",
    "\n",
    "    if index < len(input_string) and input_string[index] == \".\":\n",
    "\n",
    "        index = index + 1\n",
    "\n",
    "        while index < len(input_string) and ((input_string[index]).isdigit()):\n",
    "\n",
    "            index = index + 1\n",
    "\n",
    "    if index < len(input_string) and (\n",
    "        input_string[index] == \"E\" or input_string[index] == \"e\"\n",
    "    ):\n",
    "\n",
    "        index = index + 1\n",
    "\n",
    "        if (\n",
    "            index < len(input_string)\n",
    "            and input_string[index] == \"+\"\n",
    "            or input_string[index] == \"-\"\n",
    "        ):\n",
    "\n",
    "            index = index + 1\n",
    "\n",
    "            if index < len(input_string) and input_string[index].isdigit():\n",
    "\n",
    "                while index < len(input_string) and (input_string[index]).isdigit():\n",
    "\n",
    "                    index = index + 1\n",
    "            else:\n",
    "\n",
    "                return None\n",
    "\n",
    "        elif index < len(input_string) and input_string[index].isdigit():\n",
    "\n",
    "            while index < len(input_string) and (input_string[index]).isdigit():\n",
    "\n",
    "                index = index + 1\n",
    "        else:\n",
    "\n",
    "            return None\n",
    "\n",
    "    if input_string[:index] == \"-\":\n",
    "\n",
    "        return None\n",
    "\n",
    "    return float(input_string[:index]), input_string[index:]"
   ]
  },
  {
   "cell_type": "code",
   "execution_count": 14,
   "metadata": {},
   "outputs": [
    {
     "data": {
      "text/plain": [
       "(1.23e+67, '')"
      ]
     },
     "execution_count": 14,
     "metadata": {},
     "output_type": "execute_result"
    }
   ],
   "source": [
    "parse_number(\"123e65\")"
   ]
  },
  {
   "cell_type": "code",
   "execution_count": null,
   "metadata": {},
   "outputs": [],
   "source": [
    "def four_step(index, input_string):\n",
    "    if input_string[index] == \"u\":\n",
    "        pass\n",
    "\n",
    "\n",
    "def one_step(index, input_string):\n",
    "    charc = {\"b\": \"\\b\", '\"': '\"', \"f\": \"\\f\", \"n\": \"\\n\", \"r\": \"\\r\", \"t\": \"\\t\", \"/\": \"/\"}\n",
    "    if input_string[index] in charc.keys():\n",
    "        print(input_string[index])\n",
    "\n",
    "        return charc[input_string[index]]\n",
    "    else:\n",
    "        pass\n",
    "\n",
    "\n",
    "def parse_string(input_string):\n",
    "    input_string = whitespace_parse(input_string)\n",
    "    output_string = \"\"\n",
    "    index = 1\n",
    "    if input_string[0] == '\"':\n",
    "        # check for not present insted of having\n",
    "        if input_string[1] == '\"':\n",
    "            return output_string, input_string[2:]\n",
    "\n",
    "        while index < len(input_string) and input_string[index] != '\"':\n",
    "            if input_string[index] == '\"':\n",
    "                return output_string, input_string[index + 1 :]\n",
    "\n",
    "            if input_string[index] == \"\\\\\" and input_string[index + 1] == \"u\":\n",
    "                index = index + 5\n",
    "\n",
    "            if input_string[index] == \"\\\\\":\n",
    "                print(index)\n",
    "                output_string = output_string[:index] + one_step(\n",
    "                    index + 1, input_string\n",
    "                )\n",
    "                index = index + 2\n",
    "            else:\n",
    "                output_string = output_string + input_string[index]\n",
    "                index = index + 1"
   ]
  },
  {
   "cell_type": "code",
   "execution_count": 37,
   "metadata": {},
   "outputs": [
    {
     "name": "stdout",
     "output_type": "stream",
     "text": [
      "7\n",
      "\"\n"
     ]
    }
   ],
   "source": [
    "parse_string('\"Shishr\\\\\" pandey\"')"
   ]
  },
  {
   "cell_type": "code",
   "execution_count": 20,
   "metadata": {},
   "outputs": [
    {
     "name": "stdout",
     "output_type": "stream",
     "text": [
      "1\n",
      "3\n"
     ]
    },
    {
     "name": "stderr",
     "output_type": "stream",
     "text": [
      "<>:1: SyntaxWarning: invalid escape sequence '\\/'\n",
      "<>:1: SyntaxWarning: invalid escape sequence '\\/'\n",
      "C:\\Users\\Shiment\\AppData\\Local\\Temp\\ipykernel_40868\\52285400.py:1: SyntaxWarning: invalid escape sequence '\\/'\n",
      "  parse_string('\"\\\\\"\\\\\\\\\\/\\\\b\\\\f\\\\n\\\\r\\\\t\"')\n"
     ]
    },
    {
     "ename": "TypeError",
     "evalue": "can only concatenate str (not \"NoneType\") to str",
     "output_type": "error",
     "traceback": [
      "\u001b[1;31m---------------------------------------------------------------------------\u001b[0m",
      "\u001b[1;31mTypeError\u001b[0m                                 Traceback (most recent call last)",
      "Cell \u001b[1;32mIn[20], line 1\u001b[0m\n\u001b[1;32m----> 1\u001b[0m \u001b[43mparse_string\u001b[49m\u001b[43m(\u001b[49m\u001b[38;5;124;43m'\u001b[39;49m\u001b[38;5;124;43m\"\u001b[39;49m\u001b[38;5;130;43;01m\\\\\u001b[39;49;00m\u001b[38;5;124;43m\"\u001b[39;49m\u001b[38;5;130;43;01m\\\\\u001b[39;49;00m\u001b[38;5;130;43;01m\\\\\u001b[39;49;00m\u001b[38;5;124;43m\\\u001b[39;49m\u001b[38;5;124;43m/\u001b[39;49m\u001b[38;5;130;43;01m\\\\\u001b[39;49;00m\u001b[38;5;124;43mb\u001b[39;49m\u001b[38;5;130;43;01m\\\\\u001b[39;49;00m\u001b[38;5;124;43mf\u001b[39;49m\u001b[38;5;130;43;01m\\\\\u001b[39;49;00m\u001b[38;5;124;43mn\u001b[39;49m\u001b[38;5;130;43;01m\\\\\u001b[39;49;00m\u001b[38;5;124;43mr\u001b[39;49m\u001b[38;5;130;43;01m\\\\\u001b[39;49;00m\u001b[38;5;124;43mt\u001b[39;49m\u001b[38;5;124;43m\"\u001b[39;49m\u001b[38;5;124;43m'\u001b[39;49m\u001b[43m)\u001b[49m\n",
      "Cell \u001b[1;32mIn[19], line 31\u001b[0m, in \u001b[0;36mparse_string\u001b[1;34m(input_string)\u001b[0m\n\u001b[0;32m     29\u001b[0m \u001b[38;5;28;01mif\u001b[39;00m input_string[index] \u001b[38;5;241m==\u001b[39m \u001b[38;5;124m\"\u001b[39m\u001b[38;5;130;01m\\\\\u001b[39;00m\u001b[38;5;124m\"\u001b[39m:\n\u001b[0;32m     30\u001b[0m     \u001b[38;5;28mprint\u001b[39m(index)\n\u001b[1;32m---> 31\u001b[0m     output_string \u001b[38;5;241m=\u001b[39m \u001b[43moutput_string\u001b[49m\u001b[43m[\u001b[49m\u001b[43m:\u001b[49m\u001b[43mindex\u001b[49m\u001b[43m]\u001b[49m\u001b[43m \u001b[49m\u001b[38;5;241;43m+\u001b[39;49m\u001b[43m \u001b[49m\u001b[43mone_step\u001b[49m\u001b[43m(\u001b[49m\n\u001b[0;32m     32\u001b[0m \u001b[43m        \u001b[49m\u001b[43mindex\u001b[49m\u001b[43m \u001b[49m\u001b[38;5;241;43m+\u001b[39;49m\u001b[43m \u001b[49m\u001b[38;5;241;43m1\u001b[39;49m\u001b[43m,\u001b[49m\u001b[43m \u001b[49m\u001b[43minput_string\u001b[49m\n\u001b[0;32m     33\u001b[0m \u001b[43m    \u001b[49m\u001b[43m)\u001b[49m\n\u001b[0;32m     34\u001b[0m     index \u001b[38;5;241m=\u001b[39m index \u001b[38;5;241m+\u001b[39m \u001b[38;5;241m2\u001b[39m\n\u001b[0;32m     35\u001b[0m \u001b[38;5;28;01melse\u001b[39;00m:\n",
      "\u001b[1;31mTypeError\u001b[0m: can only concatenate str (not \"NoneType\") to str"
     ]
    }
   ],
   "source": [
    "parse_string('\"\\\\\"\\\\\\\\\\/\\\\b\\\\f\\\\n\\\\r\\\\t\"')"
   ]
  },
  {
   "cell_type": "code",
   "execution_count": null,
   "metadata": {},
   "outputs": [],
   "source": [
    "def parse_null(input_string):\n",
    "\n",
    "    input_string = whitespace_parse(input_string)\n",
    "    if (\n",
    "        input_string[:4] == \"null\"\n",
    "        or input_string[:4] == \"Null\"\n",
    "        or input_string[:4] == \"NULL\"\n",
    "    ):\n",
    "\n",
    "        return None, input_string[4:]\n",
    "\n",
    "\n",
    "def parse_bool(input_string):\n",
    "    input_string = whitespace_parse(input_string)\n",
    "    if input_string[:4] == \"true\":\n",
    "\n",
    "        return True, input_string[4:]\n",
    "    elif input_string[:5] == \"false\":\n",
    "\n",
    "        return False, input_string[5:]"
   ]
  },
  {
   "cell_type": "code",
   "execution_count": null,
   "metadata": {},
   "outputs": [],
   "source": [
    "def value(input_string):\n",
    "\n",
    "    input_string = whitespace_parse(input_string)\n",
    "    a = parse_null(input_string)\n",
    "\n",
    "    if a:\n",
    "        return a\n",
    "\n",
    "    b = parse_bool(input_string)\n",
    "\n",
    "    if b:\n",
    "        return b\n",
    "\n",
    "    c = parse_number(input_string)\n",
    "\n",
    "    if c:\n",
    "\n",
    "        return c\n",
    "\n",
    "    d = parse_string(input_string)\n",
    "\n",
    "    if d:\n",
    "        return d\n",
    "\n",
    "    e = parse_array(input_string)\n",
    "\n",
    "    if e:\n",
    "        return e\n",
    "    f = parse_object(input_string)\n",
    "    if f:\n",
    "        return f\n",
    "\n",
    "\n",
    "def parse_array(input_string):\n",
    "\n",
    "    input_string = whitespace_parse(input_string)\n",
    "    if input_string[0] != \"[\":\n",
    "        return None\n",
    "    l1_list = []\n",
    "\n",
    "    substring = whitespace_parse(input_string[1:])\n",
    "\n",
    "    if substring[0] == \"]\":\n",
    "\n",
    "        return l1_list, substring[1:]\n",
    "\n",
    "    check = value(substring)\n",
    "\n",
    "    while check and (\n",
    "        whitespace_parse(check[1])[0] == \",\" or whitespace_parse(check[1])[0] == \"]\"\n",
    "    ):\n",
    "        l1_list.append(check[0])\n",
    "\n",
    "        substring = whitespace_parse(check[1])\n",
    "        if substring[0] == \"]\":\n",
    "            return l1_list, substring[1:]\n",
    "        check = value(substring[1:])\n",
    "        # for checking if value rest of string return \"\"\n",
    "        if check:\n",
    "            if check[1]:\n",
    "                continue\n",
    "            else:\n",
    "                break\n",
    "        else:\n",
    "            break"
   ]
  },
  {
   "cell_type": "code",
   "execution_count": null,
   "metadata": {},
   "outputs": [
    {
     "data": {
      "text/plain": [
       "(['a'], '')"
      ]
     },
     "execution_count": 67,
     "metadata": {},
     "output_type": "execute_result"
    }
   ],
   "source": [
    "parse_array('[\"a\"]')"
   ]
  },
  {
   "cell_type": "code",
   "execution_count": null,
   "metadata": {},
   "outputs": [],
   "source": []
  },
  {
   "cell_type": "code",
   "execution_count": null,
   "metadata": {},
   "outputs": [],
   "source": [
    "def key_value_parser(input_string):\n",
    "    input_string = whitespace_parse(input_string)\n",
    "    string = parse_string(input_string)\n",
    "\n",
    "    if string:\n",
    "        # check for rest string is not null\n",
    "        if string[1]:\n",
    "\n",
    "            rest = whitespace_parse(string[1])\n",
    "\n",
    "            if rest[0] == \":\":\n",
    "                entry = value((rest[1:]))\n",
    "                if entry:\n",
    "\n",
    "                    return string[0], entry\n",
    "\n",
    "\n",
    "def parse_object(input_string):\n",
    "    input_string = whitespace_parse(input_string)\n",
    "\n",
    "    if input_string[0] != \"{\":\n",
    "        return None\n",
    "    d1_dict = {}\n",
    "    subString = whitespace_parse(input_string[1:])\n",
    "    if subString[0] == \"}\":\n",
    "        return d1_dict, subString[1:]\n",
    "    check = key_value_parser(subString)\n",
    "\n",
    "    while check and (\n",
    "        whitespace_parse(check[1][1])[0] == \",\"\n",
    "        or whitespace_parse(check[1][1])[0] == \"}\"\n",
    "    ):\n",
    "\n",
    "        d1_dict[check[0]] = check[1][0]\n",
    "\n",
    "        subString = whitespace_parse(check[1][1])\n",
    "        if subString[0] == \"}\":\n",
    "            return d1_dict, subString[1:]\n",
    "\n",
    "        check = key_value_parser(subString[1:])\n",
    "\n",
    "        if check:\n",
    "            if check[1][1]:\n",
    "                continue\n",
    "            else:\n",
    "                break\n",
    "        else:\n",
    "            break"
   ]
  },
  {
   "cell_type": "code",
   "execution_count": null,
   "metadata": {},
   "outputs": [],
   "source": [
    "def one_step(index, input_string):\n",
    "    charc = {\n",
    "        \"b\": \"\\b\",\n",
    "        '\"': '\"',\n",
    "        \"f\": \"\\f\",\n",
    "        \"n\": \"\\n\",\n",
    "        \"r\": \"\\r\",\n",
    "        \"t\": \"\\t\",\n",
    "        \"/\": \"/\",\n",
    "        \"\\\\\": \"\\\\\",\n",
    "    }\n",
    "    if input_string[index] in charc.keys():\n",
    "        # print(input_string[index])\n",
    "\n",
    "        return charc[input_string[index]]\n",
    "    else:\n",
    "        pass\n",
    "\n",
    "\n",
    "def parse_string(input_string):\n",
    "    try:\n",
    "\n",
    "        input_string = whitespace_parse(input_string)\n",
    "        if input_string[0] != '\"':\n",
    "            return None\n",
    "        output_string = \"\"\n",
    "        # print(whitespace_parse(input_string[1:]))\n",
    "        if whitespace_parse(input_string[1:]) == '\"':\n",
    "\n",
    "            return output_string\n",
    "        index = 1\n",
    "        lenght = len(input_string)\n",
    "        # print(lenght)\n",
    "        while index < lenght and input_string[index] != '\"':\n",
    "\n",
    "            if input_string[index] == \"\\\\\":\n",
    "                if input_string[index + 1] == \"u\":\n",
    "                    # print(index,input_string[index])\n",
    "                    index = index + 5\n",
    "\n",
    "            if input_string[index] == \"\\\\\":\n",
    "                output_string = output_string[:index] + one_step(\n",
    "                    index + 1, input_string\n",
    "                )\n",
    "                index = index + 2\n",
    "\n",
    "            else:\n",
    "                # print(index)\n",
    "                output_string = output_string + input_string[index]\n",
    "                index = index + 1\n",
    "\n",
    "        if input_string[index] == '\"':\n",
    "            return output_string, input_string[index + 1 :]\n",
    "    except UnicodeDecodeError:\n",
    "        print(\"'charmap' codec can't decode byte 0x8f\")\n",
    "        return output_string, \",\" + input_string[index + 1 :]"
   ]
  },
  {
   "cell_type": "code",
   "execution_count": 94,
   "metadata": {},
   "outputs": [
    {
     "data": {
      "text/plain": [
       "''"
      ]
     },
     "execution_count": 94,
     "metadata": {},
     "output_type": "execute_result"
    }
   ],
   "source": [
    "parse_string('\" \"')"
   ]
  },
  {
   "cell_type": "code",
   "execution_count": null,
   "metadata": {},
   "outputs": [
    {
     "name": "stdout",
     "output_type": "stream",
     "text": [
      "\"\n"
     ]
    }
   ],
   "source": [
    "a = '\"\\\\u0060\"'\n",
    "print(a[7])"
   ]
  }
 ],
 "metadata": {
  "kernelspec": {
   "display_name": "Python 3",
   "language": "python",
   "name": "python3"
  },
  "language_info": {
   "codemirror_mode": {
    "name": "ipython",
    "version": 3
   },
   "file_extension": ".py",
   "mimetype": "text/x-python",
   "name": "python",
   "nbconvert_exporter": "python",
   "pygments_lexer": "ipython3",
   "version": "3.12.3"
  }
 },
 "nbformat": 4,
 "nbformat_minor": 2
}
